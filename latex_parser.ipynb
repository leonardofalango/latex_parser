{
  "nbformat": 4,
  "nbformat_minor": 0,
  "metadata": {
    "colab": {
      "provenance": [],
      "toc_visible": true,
      "authorship_tag": "ABX9TyOITxH3x+ppZ0FoeKLQSEsb",
      "include_colab_link": true
    },
    "kernelspec": {
      "name": "python3",
      "display_name": "Python 3"
    },
    "language_info": {
      "name": "python"
    }
  },
  "cells": [
    {
      "cell_type": "markdown",
      "metadata": {
        "id": "view-in-github",
        "colab_type": "text"
      },
      "source": [
        "<a href=\"https://colab.research.google.com/github/leonardofalango/latex_parser/blob/main/latex_parser.ipynb\" target=\"_parent\"><img src=\"https://colab.research.google.com/assets/colab-badge.svg\" alt=\"Open In Colab\"/></a>"
      ]
    },
    {
      "cell_type": "code",
      "execution_count": 1,
      "metadata": {
        "colab": {
          "base_uri": "https://localhost:8080/"
        },
        "id": "43u3YSeDdHC2",
        "outputId": "2d442259-671b-42da-ecd5-cf83d9e16f87"
      },
      "outputs": [
        {
          "output_type": "stream",
          "name": "stdout",
          "text": [
            "--2025-04-25 02:28:31--  https://raw.githubusercontent.com/leonardofalango/files/refs/heads/main/latex_parser/val1.txt\n",
            "Resolving raw.githubusercontent.com (raw.githubusercontent.com)... 185.199.111.133, 185.199.108.133, 185.199.109.133, ...\n",
            "Connecting to raw.githubusercontent.com (raw.githubusercontent.com)|185.199.111.133|:443... connected.\n",
            "HTTP request sent, awaiting response... 200 OK\n",
            "Length: 59 [text/plain]\n",
            "Saving to: ‘val1.txt’\n",
            "\n",
            "val1.txt            100%[===================>]      59  --.-KB/s    in 0s      \n",
            "\n",
            "2025-04-25 02:28:31 (2.20 MB/s) - ‘val1.txt’ saved [59/59]\n",
            "\n",
            "--2025-04-25 02:28:31--  https://raw.githubusercontent.com/leonardofalango/files/refs/heads/main/latex_parser/val2.txt\n",
            "Resolving raw.githubusercontent.com (raw.githubusercontent.com)... 185.199.109.133, 185.199.108.133, 185.199.111.133, ...\n",
            "Connecting to raw.githubusercontent.com (raw.githubusercontent.com)|185.199.109.133|:443... connected.\n",
            "HTTP request sent, awaiting response... 200 OK\n",
            "Length: 45 [text/plain]\n",
            "Saving to: ‘val2.txt’\n",
            "\n",
            "val2.txt            100%[===================>]      45  --.-KB/s    in 0s      \n",
            "\n",
            "2025-04-25 02:28:32 (1.86 MB/s) - ‘val2.txt’ saved [45/45]\n",
            "\n",
            "--2025-04-25 02:28:32--  https://raw.githubusercontent.com/leonardofalango/files/refs/heads/main/latex_parser/val3.txt\n",
            "Resolving raw.githubusercontent.com (raw.githubusercontent.com)... 185.199.108.133, 185.199.109.133, 185.199.110.133, ...\n",
            "Connecting to raw.githubusercontent.com (raw.githubusercontent.com)|185.199.108.133|:443... connected.\n",
            "HTTP request sent, awaiting response... 200 OK\n",
            "Length: 291 [text/plain]\n",
            "Saving to: ‘val3.txt’\n",
            "\n",
            "val3.txt            100%[===================>]     291  --.-KB/s    in 0s      \n",
            "\n",
            "2025-04-25 02:28:32 (17.8 MB/s) - ‘val3.txt’ saved [291/291]\n",
            "\n"
          ]
        }
      ],
      "source": [
        "# Leonardo Scanavacca Falango\n",
        "\n",
        "# Install dependencies\n",
        "\n",
        "import typing\n",
        "import collections\n",
        "\n",
        "# Donwload Files to test\n",
        "!cd /content\n",
        "!rm -rf test_data\n",
        "!mkdir test_data\n",
        "!cd test_data && wget https://raw.githubusercontent.com/leonardofalango/files/refs/heads/main/latex_parser/val1.txt\n",
        "!cd test_data && wget https://raw.githubusercontent.com/leonardofalango/files/refs/heads/main/latex_parser/val2.txt\n",
        "!cd test_data && wget https://raw.githubusercontent.com/leonardofalango/files/refs/heads/main/latex_parser/val3.txt"
      ]
    },
    {
      "cell_type": "code",
      "source": [
        "# Check if files were downloaded\n",
        "!ls test_data"
      ],
      "metadata": {
        "colab": {
          "base_uri": "https://localhost:8080/"
        },
        "id": "Opuz6NHPfSO8",
        "outputId": "410af645-b16f-44f8-d276-5a8650afb417"
      },
      "execution_count": 2,
      "outputs": [
        {
          "output_type": "stream",
          "name": "stdout",
          "text": [
            "val1.txt  val2.txt  val3.txt\n"
          ]
        }
      ]
    },
    {
      "cell_type": "markdown",
      "source": [
        "# Lexer"
      ],
      "metadata": {
        "id": "Q3I7B1OlgJ9g"
      }
    },
    {
      "cell_type": "code",
      "source": [
        "import re\n",
        "\n",
        "# Tokens\n",
        "TOKEN_REGEX = [\n",
        "  ('CONSTANTE', r'\\btrue\\b|\\bfalse\\b'),\n",
        "  ('OPERADORUNARIO', r'\\\\neg'),\n",
        "  ('OPERADORBINARIO', r'\\\\wedge|\\\\vee|\\\\rightarrow|\\\\leftrightarrow'),\n",
        "  ('ABREPAREN', r'\\('),\n",
        "  ('FECHAPAREN', r'\\)'),\n",
        "  ('PROPOSICAO', r'\\b[0-9][0-9a-z]*\\b'),\n",
        "  ('ESPACO', r'\\s+'),\n",
        "]\n",
        "\n",
        "class Token:\n",
        "  def __init__(self, tipo : str, value : typing.Any):\n",
        "    self.tipo = tipo\n",
        "    self.value = value\n",
        "\n",
        "  # For printing\n",
        "  def __repr__(self):\n",
        "    return f'Token({self.tipo}, {repr(self.value)})'\n",
        "\n",
        "def lexer(exp : str):\n",
        "  tokens = []\n",
        "  pos = 0\n",
        "  while pos < len(exp):\n",
        "    match = None\n",
        "    for token_type, regex in TOKEN_REGEX:\n",
        "      pattern = re.compile(regex)\n",
        "      match = pattern.match(exp, pos)\n",
        "      if match:\n",
        "        if token_type != 'ESPACO':\n",
        "            valor = match.group(0)\n",
        "            tokens.append(Token(token_type, valor))\n",
        "        pos = match.end()\n",
        "        break\n",
        "    if not match:\n",
        "      raise SyntaxError(f'Token inválido na posição {pos}: {exp[pos]}')\n",
        "  return tokens\n"
      ],
      "metadata": {
        "id": "8QoAD_zEgIj8"
      },
      "execution_count": 3,
      "outputs": []
    },
    {
      "cell_type": "code",
      "source": [
        "# Testing lexer\n",
        "exp = r\"(\\wedge 1x true)\"\n",
        "tokens = lexer(exp)\n",
        "for t in tokens:\n",
        "    print(t)"
      ],
      "metadata": {
        "colab": {
          "base_uri": "https://localhost:8080/"
        },
        "id": "dw4jgajUgrLk",
        "outputId": "b3fcffe1-c94f-4767-ffb0-e6db713c5749"
      },
      "execution_count": 4,
      "outputs": [
        {
          "output_type": "stream",
          "name": "stdout",
          "text": [
            "Token(ABREPAREN, '(')\n",
            "Token(OPERADORBINARIO, '\\\\wedge')\n",
            "Token(PROPOSICAO, '1x')\n",
            "Token(CONSTANTE, 'true')\n",
            "Token(FECHAPAREN, ')')\n"
          ]
        }
      ]
    },
    {
      "cell_type": "markdown",
      "source": [
        "# Parser"
      ],
      "metadata": {
        "id": "TYFwdivXhIxs"
      }
    },
    {
      "cell_type": "code",
      "source": [
        "class Parser:\n",
        "  def __init__(self, tokens : typing.List[Token]):\n",
        "    self.tokens = tokens # Tokens by lexer\n",
        "    self.pos = 0\n",
        "    self.current : Token = self.tokens[self.pos] if self.tokens else None\n",
        "\n",
        "  # Next token\n",
        "  def advance(self):\n",
        "      self.pos += 1\n",
        "      self.current = self.tokens[self.pos] if self.pos < len(self.tokens) else None\n",
        "\n",
        "  # Match token with token_type (tipo)\n",
        "  def match(self, expected_type : str):\n",
        "    if self.current and self.current.tipo == expected_type:\n",
        "        self.advance()\n",
        "    else:\n",
        "        raise SyntaxError(f'Esperado {expected_type}, mas encontrou {self.current}')\n",
        "\n",
        "  # Parse method to expr\n",
        "  def parse(self):\n",
        "    self.formula()\n",
        "    if self.current is not None:\n",
        "        raise SyntaxError(f'Tokens restantes: {self.current}')\n",
        "\n",
        "  # FORMULA = CONSTANTE | PROPOSICAO | FORMULAUNARIA | FORMULABINARIA\n",
        "  def formula(self):\n",
        "    if self.current.tipo in ['CONSTANTE', 'PROPOSICAO']:\n",
        "        self.advance()\n",
        "    elif self.current.tipo == 'ABREPAREN':\n",
        "        self.advance()\n",
        "        if self.current.tipo == 'OPERADORUNARIO':\n",
        "            self.formula_unaria()\n",
        "        elif self.current.tipo == 'OPERADORBINARIO':\n",
        "            self.formula_binaria()\n",
        "        else:\n",
        "            raise SyntaxError(f'Esperado operador após \"(\", encontrou: {self.current}')\n",
        "    else:\n",
        "        raise SyntaxError(f'Expressão mal formada, encontrou: {self.current}')\n",
        "\n",
        "  # FORMULAUNARIA = ABREPAREN OPERADORUNARIO FORMULA FECHAPAREN\n",
        "  def formula_unaria(self):\n",
        "    self.match('OPERADORUNARIO')\n",
        "    self.formula()\n",
        "    self.match('FECHAPAREN')\n",
        "\n",
        "  # FORMULABINARIA = ABREPAREN OPERADORBINARIO FORMULA FORMULA FECHAPAREN\n",
        "  def formula_binaria(self):\n",
        "    self.match('OPERADORBINARIO')\n",
        "    self.formula()\n",
        "    self.formula()\n",
        "    self.match('FECHAPAREN')"
      ],
      "metadata": {
        "id": "_kHmkvjYhLez"
      },
      "execution_count": 5,
      "outputs": []
    },
    {
      "cell_type": "code",
      "source": [
        "# Testing\n",
        "\n",
        "def is_valid(expr: str):\n",
        "  try:\n",
        "      tokens = lexer(expr) # Getting tokens\n",
        "      parser = Parser(tokens)\n",
        "      parser.parse() # Validating tokens\n",
        "      return True\n",
        "  except SyntaxError:\n",
        "      return False\n",
        "\n",
        "# Formating the ouput\n",
        "def validate(expr: str):\n",
        "  return \"válida\" if is_valid(expr) else \"inválida\"\n",
        "\n",
        "exp = r\"(\\wedge 1x true)\"\n",
        "print(is_valid(exp))\n",
        "exp = r\"(\\wedge (1x true)\"\n",
        "print(is_valid(exp))"
      ],
      "metadata": {
        "colab": {
          "base_uri": "https://localhost:8080/"
        },
        "id": "SZMszYCSii-Z",
        "outputId": "a2208d3e-56c7-4cc7-a7df-81b4b228f616"
      },
      "execution_count": 6,
      "outputs": [
        {
          "output_type": "stream",
          "name": "stdout",
          "text": [
            "True\n",
            "False\n"
          ]
        }
      ]
    },
    {
      "cell_type": "markdown",
      "source": [
        "# Testing"
      ],
      "metadata": {
        "id": "UhvQK0z-kGJk"
      }
    },
    {
      "cell_type": "code",
      "source": [
        "# Foreach testing file, foreach line use validate(line)\n",
        "def parse_file(filepath: str):\n",
        "  # Open and read the file\n",
        "  with open(filepath, \"r\") as f:\n",
        "    # verify if the file is valid\n",
        "    n_formulas = int(f.readline())\n",
        "    print(f\"Arquivo: {filepath} Quantidade de validações: {n_formulas}\")\n",
        "\n",
        "    # read all lines\n",
        "    lines = f.readlines()\n",
        "    if n_formulas != len(lines):\n",
        "      raise Exception(\"Arquivo contendo conteudo inválido, quantidade de validações não bate com a quantidade de linhas\")\n",
        "\n",
        "    # foreach formula validade\n",
        "    for i in range(n_formulas):\n",
        "      line = lines[i].strip()\n",
        "      p = validate(line)\n",
        "      print(f\"[{p:<{8}}] Expressão: {line}\")"
      ],
      "metadata": {
        "id": "UBzpVhLykIjs"
      },
      "execution_count": 7,
      "outputs": []
    },
    {
      "cell_type": "code",
      "source": [
        "# Test file 1\n",
        "filepath = \"test_data/val1.txt\"\n",
        "parse_file(filepath=filepath)"
      ],
      "metadata": {
        "colab": {
          "base_uri": "https://localhost:8080/"
        },
        "id": "7rIzTqisqV2c",
        "outputId": "89ef91bc-4dd5-4164-d1c5-4f69ddd7d269"
      },
      "execution_count": 8,
      "outputs": [
        {
          "output_type": "stream",
          "name": "stdout",
          "text": [
            "Arquivo: test_data/val1.txt Quantidade de validações: 4\n",
            "[válida  ] Expressão: (\\neg true)\n",
            "[inválida] Expressão: (\\wedge a1 3b)\n",
            "[inválida] Expressão: (\\neg)\n",
            "[válida  ] Expressão: (\\vee (\\neg 0x) false)\n"
          ]
        }
      ]
    },
    {
      "cell_type": "code",
      "source": [
        "# Test file 2\n",
        "filepath = \"test_data/val2.txt\"\n",
        "parse_file(filepath=filepath)"
      ],
      "metadata": {
        "colab": {
          "base_uri": "https://localhost:8080/"
        },
        "id": "9KqhLSz3qeH5",
        "outputId": "5d2c3518-504b-4294-f91e-635d2b265ea1"
      },
      "execution_count": 9,
      "outputs": [
        {
          "output_type": "stream",
          "name": "stdout",
          "text": [
            "Arquivo: test_data/val2.txt Quantidade de validações: 3\n",
            "[válida  ] Expressão: (\\neg (\\wedge true false))\n",
            "[inválida] Expressão: (p1)\n",
            "[válida  ] Expressão: (\\neg true)\n"
          ]
        }
      ]
    },
    {
      "cell_type": "code",
      "source": [
        "# Test file 3\n",
        "filepath = \"test_data/val3.txt\"\n",
        "parse_file(filepath=filepath)"
      ],
      "metadata": {
        "colab": {
          "base_uri": "https://localhost:8080/"
        },
        "id": "FQCiBuZdqnDj",
        "outputId": "ec6a500f-d2d8-44c0-cc18-7d18a6ed31f0"
      },
      "execution_count": 10,
      "outputs": [
        {
          "output_type": "stream",
          "name": "stdout",
          "text": [
            "Arquivo: test_data/val3.txt Quantidade de validações: 8\n",
            "[inválida] Expressão: (\\rightarrow (\\neg false) (\\wedge 1a a2))\n",
            "[inválida] Expressão: (\\leftrightarrow (\\vee a1 b2) (\\neg 9z))\n",
            "[válida  ] Expressão: (\\wedge (\\neg (\\neg true)) (\\vee 0x false))\n",
            "[inválida] Expressão: (\\leftrightarrow (\\neg (\\wedge true false)) (\\vee x9 y8))\n",
            "[inválida] Expressão: (\\rightarrow (\\vee p1) q1)\n",
            "[válida  ] Expressão: (\\leftrightarrow true false)\n",
            "[inválida] Expressão: (\\wedge (\\neg true) (\\vee))\n",
            "[inválida] Expressão: (\\vee (\\vee a1 b1))\n"
          ]
        }
      ]
    },
    {
      "cell_type": "markdown",
      "source": [
        "$(\\neg (\\wedge (\\vee (\\rightarrow 1a 1b) (\\wedge true 2a)) 3z))$"
      ],
      "metadata": {
        "id": "n7BnCRVGzAJ5"
      }
    },
    {
      "cell_type": "code",
      "source": [
        "is_valid(r'(\\neg (\\wedge (\\vee (\\rightarrow 1a 1b) (\\wedge true 2a)) 3z))')"
      ],
      "metadata": {
        "colab": {
          "base_uri": "https://localhost:8080/"
        },
        "id": "gE3hjaJeyVXM",
        "outputId": "42f4bac9-f86d-42ea-debf-e1447d478b73"
      },
      "execution_count": 11,
      "outputs": [
        {
          "output_type": "execute_result",
          "data": {
            "text/plain": [
              "True"
            ]
          },
          "metadata": {},
          "execution_count": 11
        }
      ]
    }
  ]
}